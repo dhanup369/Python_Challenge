{
 "cells": [
  {
   "cell_type": "code",
   "execution_count": 5,
   "metadata": {},
   "outputs": [],
   "source": [
    "import pandas as pd\n",
    "df=pd.read_excel(\"seattle_pop_data.xlsx\")"
   ]
  },
  {
   "cell_type": "code",
   "execution_count": 9,
   "metadata": {},
   "outputs": [],
   "source": [
    "df=df.iloc[:29]"
   ]
  },
  {
   "cell_type": "code",
   "execution_count": 16,
   "metadata": {},
   "outputs": [
    {
     "data": {
      "text/plain": [
       "[172050.0,\n",
       " 343500.0,\n",
       " 297900.0,\n",
       " 202000.0,\n",
       " 573900.0,\n",
       " 279400.0,\n",
       " 178000.0,\n",
       " 275000.0,\n",
       " 275000.0,\n",
       " 477000.0,\n",
       " 279200.0,\n",
       " 279200.0,\n",
       " 279200.0,\n",
       " 225000.0,\n",
       " 225000.0,\n",
       " 370500.0,\n",
       " 370500.0,\n",
       " 255400.0,\n",
       " 433500.0,\n",
       " 433500.0,\n",
       " 335000.0,\n",
       " 335000.0,\n",
       " 286600.0,\n",
       " 286600.0,\n",
       " 187300.0,\n",
       " 175000.0,\n",
       " 225900.0,\n",
       " 219400.0,\n",
       " 363400.0]"
      ]
     },
     "execution_count": 16,
     "metadata": {},
     "output_type": "execute_result"
    }
   ],
   "source": [
    "list(df['Avg Housing Price'])"
   ]
  },
  {
   "cell_type": "code",
   "execution_count": null,
   "metadata": {
    "collapsed": true
   },
   "outputs": [],
   "source": []
  }
 ],
 "metadata": {
  "kernelspec": {
   "display_name": "Python 3",
   "language": "python",
   "name": "python3"
  },
  "language_info": {
   "codemirror_mode": {
    "name": "ipython",
    "version": 3
   },
   "file_extension": ".py",
   "mimetype": "text/x-python",
   "name": "python",
   "nbconvert_exporter": "python",
   "pygments_lexer": "ipython3",
   "version": "3.6.1"
  }
 },
 "nbformat": 4,
 "nbformat_minor": 2
}
